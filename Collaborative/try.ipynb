{
 "cells": [
  {
   "cell_type": "code",
   "execution_count": 7,
   "metadata": {},
   "outputs": [
    {
     "name": "stdout",
     "output_type": "stream",
     "text": [
      "Enter an integer:4\n",
      "No,it is a little higher than that\n",
      "Done\n"
     ]
    }
   ],
   "source": [
    "number=23\n",
    "guess=int(input('Enter an integer:'))\n",
    "if guess==number:\n",
    "    print('Congratulation!')\n",
    "elif guess<number:\n",
    "    print('No,it is a little higher than that')\n",
    "else:\n",
    "    print('No,it is a little lower than that')\n",
    "\n",
    "print('Done')"
   ]
  },
  {
   "cell_type": "code",
   "execution_count": null,
   "metadata": {},
   "outputs": [],
   "source": []
  }
 ],
 "metadata": {
  "kernelspec": {
   "display_name": "Python 3",
   "language": "python",
   "name": "python3"
  },
  "language_info": {
   "codemirror_mode": {
    "name": "ipython",
    "version": 3
   },
   "file_extension": ".py",
   "mimetype": "text/x-python",
   "name": "python",
   "nbconvert_exporter": "python",
   "pygments_lexer": "ipython3",
   "version": "3.6.5"
  }
 },
 "nbformat": 4,
 "nbformat_minor": 2
}
